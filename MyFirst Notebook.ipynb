{
    "cells": [
        {
            "cell_type": "code",
            "execution_count": 16,
            "metadata": {},
            "outputs": [],
            "source": "import pandas as pd\nimport numpy as np"
        },
        {
            "cell_type": "code",
            "execution_count": 3,
            "metadata": {},
            "outputs": [
                {
                    "data": {
                        "text/plain": "'0.24.1'"
                    },
                    "execution_count": 3,
                    "metadata": {},
                    "output_type": "execute_result"
                }
            ],
            "source": "pd.__version__"
        },
        {
            "cell_type": "code",
            "execution_count": 4,
            "metadata": {},
            "outputs": [],
            "source": "df = pd.read_csv('https://raw.githubusercontent.com/dataoptimal/posts/master/data%20cleaning%20with%20python%20and%20pandas/property%20data.csv')"
        },
        {
            "cell_type": "code",
            "execution_count": 5,
            "metadata": {},
            "outputs": [
                {
                    "data": {
                        "text/html": "<div>\n<style scoped>\n    .dataframe tbody tr th:only-of-type {\n        vertical-align: middle;\n    }\n\n    .dataframe tbody tr th {\n        vertical-align: top;\n    }\n\n    .dataframe thead th {\n        text-align: right;\n    }\n</style>\n<table border=\"1\" class=\"dataframe\">\n  <thead>\n    <tr style=\"text-align: right;\">\n      <th></th>\n      <th>PID</th>\n      <th>ST_NUM</th>\n      <th>ST_NAME</th>\n      <th>OWN_OCCUPIED</th>\n      <th>NUM_BEDROOMS</th>\n      <th>NUM_BATH</th>\n      <th>SQ_FT</th>\n    </tr>\n  </thead>\n  <tbody>\n    <tr>\n      <th>0</th>\n      <td>100001000.0</td>\n      <td>104.0</td>\n      <td>PUTNAM</td>\n      <td>Y</td>\n      <td>3</td>\n      <td>1</td>\n      <td>1000</td>\n    </tr>\n    <tr>\n      <th>1</th>\n      <td>100002000.0</td>\n      <td>197.0</td>\n      <td>LEXINGTON</td>\n      <td>N</td>\n      <td>3</td>\n      <td>1.5</td>\n      <td>--</td>\n    </tr>\n    <tr>\n      <th>2</th>\n      <td>100003000.0</td>\n      <td>NaN</td>\n      <td>LEXINGTON</td>\n      <td>N</td>\n      <td>NaN</td>\n      <td>1</td>\n      <td>850</td>\n    </tr>\n    <tr>\n      <th>3</th>\n      <td>100004000.0</td>\n      <td>201.0</td>\n      <td>BERKELEY</td>\n      <td>12</td>\n      <td>1</td>\n      <td>NaN</td>\n      <td>700</td>\n    </tr>\n    <tr>\n      <th>4</th>\n      <td>NaN</td>\n      <td>203.0</td>\n      <td>BERKELEY</td>\n      <td>Y</td>\n      <td>3</td>\n      <td>2</td>\n      <td>1600</td>\n    </tr>\n    <tr>\n      <th>5</th>\n      <td>100006000.0</td>\n      <td>207.0</td>\n      <td>BERKELEY</td>\n      <td>Y</td>\n      <td>NaN</td>\n      <td>1</td>\n      <td>800</td>\n    </tr>\n    <tr>\n      <th>6</th>\n      <td>100007000.0</td>\n      <td>NaN</td>\n      <td>WASHINGTON</td>\n      <td>NaN</td>\n      <td>2</td>\n      <td>HURLEY</td>\n      <td>950</td>\n    </tr>\n    <tr>\n      <th>7</th>\n      <td>100008000.0</td>\n      <td>213.0</td>\n      <td>TREMONT</td>\n      <td>Y</td>\n      <td>1</td>\n      <td>1</td>\n      <td>NaN</td>\n    </tr>\n    <tr>\n      <th>8</th>\n      <td>100009000.0</td>\n      <td>215.0</td>\n      <td>TREMONT</td>\n      <td>Y</td>\n      <td>na</td>\n      <td>2</td>\n      <td>1800</td>\n    </tr>\n  </tbody>\n</table>\n</div>",
                        "text/plain": "           PID  ST_NUM     ST_NAME OWN_OCCUPIED NUM_BEDROOMS NUM_BATH SQ_FT\n0  100001000.0   104.0      PUTNAM            Y            3        1  1000\n1  100002000.0   197.0   LEXINGTON            N            3      1.5    --\n2  100003000.0     NaN   LEXINGTON            N          NaN        1   850\n3  100004000.0   201.0    BERKELEY           12            1      NaN   700\n4          NaN   203.0    BERKELEY            Y            3        2  1600\n5  100006000.0   207.0    BERKELEY            Y          NaN        1   800\n6  100007000.0     NaN  WASHINGTON          NaN            2   HURLEY   950\n7  100008000.0   213.0     TREMONT            Y            1        1   NaN\n8  100009000.0   215.0     TREMONT            Y           na        2  1800"
                    },
                    "execution_count": 5,
                    "metadata": {},
                    "output_type": "execute_result"
                }
            ],
            "source": "df"
        },
        {
            "cell_type": "code",
            "execution_count": 7,
            "metadata": {},
            "outputs": [
                {
                    "data": {
                        "text/plain": "0    104.0\n1    197.0\n2      NaN\n3    201.0\n4    203.0\n5    207.0\n6      NaN\n7    213.0\n8    215.0\nName: ST_NUM, dtype: float64"
                    },
                    "execution_count": 7,
                    "metadata": {},
                    "output_type": "execute_result"
                }
            ],
            "source": "df['ST_NUM']"
        },
        {
            "cell_type": "code",
            "execution_count": 8,
            "metadata": {},
            "outputs": [
                {
                    "data": {
                        "text/plain": "0    False\n1    False\n2     True\n3    False\n4    False\n5    False\n6     True\n7    False\n8    False\nName: ST_NUM, dtype: bool"
                    },
                    "execution_count": 8,
                    "metadata": {},
                    "output_type": "execute_result"
                }
            ],
            "source": "df['ST_NUM'].isnull()"
        },
        {
            "cell_type": "code",
            "execution_count": 11,
            "metadata": {},
            "outputs": [
                {
                    "name": "stdout",
                    "output_type": "stream",
                    "text": "0      3\n1      3\n2    NaN\n3      1\n4      3\n5    NaN\n6      2\n7      1\n8     na\nName: NUM_BEDROOMS, dtype: object\n"
                },
                {
                    "data": {
                        "text/plain": "0    False\n1    False\n2     True\n3    False\n4    False\n5     True\n6    False\n7    False\n8    False\nName: NUM_BEDROOMS, dtype: bool"
                    },
                    "execution_count": 11,
                    "metadata": {},
                    "output_type": "execute_result"
                }
            ],
            "source": "print(df['NUM_BEDROOMS'])\ndf['NUM_BEDROOMS'].isnull()"
        },
        {
            "cell_type": "code",
            "execution_count": 23,
            "metadata": {},
            "outputs": [
                {
                    "data": {
                        "text/html": "<div>\n<style scoped>\n    .dataframe tbody tr th:only-of-type {\n        vertical-align: middle;\n    }\n\n    .dataframe tbody tr th {\n        vertical-align: top;\n    }\n\n    .dataframe thead th {\n        text-align: right;\n    }\n</style>\n<table border=\"1\" class=\"dataframe\">\n  <thead>\n    <tr style=\"text-align: right;\">\n      <th></th>\n      <th>PID</th>\n      <th>ST_NUM</th>\n      <th>ST_NAME</th>\n      <th>OWN_OCCUPIED</th>\n      <th>NUM_BEDROOMS</th>\n      <th>NUM_BATH</th>\n      <th>SQ_FT</th>\n    </tr>\n  </thead>\n  <tbody>\n    <tr>\n      <th>0</th>\n      <td>100001000.0</td>\n      <td>104.0</td>\n      <td>PUTNAM</td>\n      <td>Y</td>\n      <td>3.0</td>\n      <td>1</td>\n      <td>1000.0</td>\n    </tr>\n    <tr>\n      <th>1</th>\n      <td>100002000.0</td>\n      <td>197.0</td>\n      <td>LEXINGTON</td>\n      <td>N</td>\n      <td>3.0</td>\n      <td>1.5</td>\n      <td>NaN</td>\n    </tr>\n    <tr>\n      <th>2</th>\n      <td>100003000.0</td>\n      <td>NaN</td>\n      <td>LEXINGTON</td>\n      <td>N</td>\n      <td>NaN</td>\n      <td>1</td>\n      <td>850.0</td>\n    </tr>\n    <tr>\n      <th>3</th>\n      <td>100004000.0</td>\n      <td>201.0</td>\n      <td>BERKELEY</td>\n      <td>12</td>\n      <td>1.0</td>\n      <td>NaN</td>\n      <td>700.0</td>\n    </tr>\n    <tr>\n      <th>4</th>\n      <td>NaN</td>\n      <td>203.0</td>\n      <td>BERKELEY</td>\n      <td>Y</td>\n      <td>3.0</td>\n      <td>2</td>\n      <td>1600.0</td>\n    </tr>\n    <tr>\n      <th>5</th>\n      <td>100006000.0</td>\n      <td>207.0</td>\n      <td>BERKELEY</td>\n      <td>Y</td>\n      <td>NaN</td>\n      <td>1</td>\n      <td>800.0</td>\n    </tr>\n    <tr>\n      <th>6</th>\n      <td>100007000.0</td>\n      <td>NaN</td>\n      <td>WASHINGTON</td>\n      <td>NaN</td>\n      <td>2.0</td>\n      <td>HURLEY</td>\n      <td>950.0</td>\n    </tr>\n    <tr>\n      <th>7</th>\n      <td>100008000.0</td>\n      <td>213.0</td>\n      <td>TREMONT</td>\n      <td>Y</td>\n      <td>1.0</td>\n      <td>1</td>\n      <td>NaN</td>\n    </tr>\n    <tr>\n      <th>8</th>\n      <td>100009000.0</td>\n      <td>215.0</td>\n      <td>TREMONT</td>\n      <td>Y</td>\n      <td>NaN</td>\n      <td>2</td>\n      <td>1800.0</td>\n    </tr>\n  </tbody>\n</table>\n</div>",
                        "text/plain": "           PID  ST_NUM     ST_NAME OWN_OCCUPIED  NUM_BEDROOMS NUM_BATH   SQ_FT\n0  100001000.0   104.0      PUTNAM            Y           3.0        1  1000.0\n1  100002000.0   197.0   LEXINGTON            N           3.0      1.5     NaN\n2  100003000.0     NaN   LEXINGTON            N           NaN        1   850.0\n3  100004000.0   201.0    BERKELEY           12           1.0      NaN   700.0\n4          NaN   203.0    BERKELEY            Y           3.0        2  1600.0\n5  100006000.0   207.0    BERKELEY            Y           NaN        1   800.0\n6  100007000.0     NaN  WASHINGTON          NaN           2.0   HURLEY   950.0\n7  100008000.0   213.0     TREMONT            Y           1.0        1     NaN\n8  100009000.0   215.0     TREMONT            Y           NaN        2  1800.0"
                    },
                    "execution_count": 23,
                    "metadata": {},
                    "output_type": "execute_result"
                }
            ],
            "source": "missing_vales = ['--','na','n/a']\ndf = pd.read_csv('https://raw.githubusercontent.com/dataoptimal/posts/master/data%20cleaning%20with%20python%20and%20pandas/property%20data.csv',na_values=missing_vales)\ndf"
        },
        {
            "cell_type": "code",
            "execution_count": 24,
            "metadata": {},
            "outputs": [
                {
                    "name": "stdout",
                    "output_type": "stream",
                    "text": "0    3.0\n1    3.0\n2    NaN\n3    1.0\n4    3.0\n5    NaN\n6    2.0\n7    1.0\n8    NaN\nName: NUM_BEDROOMS, dtype: float64\n"
                },
                {
                    "data": {
                        "text/plain": "0    False\n1    False\n2     True\n3    False\n4    False\n5     True\n6    False\n7    False\n8     True\nName: NUM_BEDROOMS, dtype: bool"
                    },
                    "execution_count": 24,
                    "metadata": {},
                    "output_type": "execute_result"
                }
            ],
            "source": "print(df['NUM_BEDROOMS'])\ndf['NUM_BEDROOMS'].isnull()"
        },
        {
            "cell_type": "code",
            "execution_count": 25,
            "metadata": {},
            "outputs": [
                {
                    "name": "stdout",
                    "output_type": "stream",
                    "text": "0      Y\n1      N\n2      N\n3     12\n4      Y\n5      Y\n6    NaN\n7      Y\n8      Y\nName: OWN_OCCUPIED, dtype: object\n"
                },
                {
                    "data": {
                        "text/plain": "0    False\n1    False\n2    False\n3    False\n4    False\n5    False\n6     True\n7    False\n8    False\nName: OWN_OCCUPIED, dtype: bool"
                    },
                    "execution_count": 25,
                    "metadata": {},
                    "output_type": "execute_result"
                }
            ],
            "source": "print(df['OWN_OCCUPIED'])\ndf['OWN_OCCUPIED'].isnull()"
        },
        {
            "cell_type": "code",
            "execution_count": 26,
            "metadata": {},
            "outputs": [
                {
                    "name": "stdout",
                    "output_type": "stream",
                    "text": "3\n"
                }
            ],
            "source": "cnt=0\nfor row in df['OWN_OCCUPIED']:\n    try:\n        int(row)\n        print(cnt)\n        df.loc[cnt, 'OWN_OCCUPIED']=np.nan\n    except ValueError:\n        pass\n    cnt+=1"
        },
        {
            "cell_type": "code",
            "execution_count": 27,
            "metadata": {},
            "outputs": [
                {
                    "name": "stdout",
                    "output_type": "stream",
                    "text": "0      Y\n1      N\n2      N\n3    NaN\n4      Y\n5      Y\n6    NaN\n7      Y\n8      Y\nName: OWN_OCCUPIED, dtype: object\n"
                },
                {
                    "data": {
                        "text/plain": "0    False\n1    False\n2    False\n3     True\n4    False\n5    False\n6     True\n7    False\n8    False\nName: OWN_OCCUPIED, dtype: bool"
                    },
                    "execution_count": 27,
                    "metadata": {},
                    "output_type": "execute_result"
                }
            ],
            "source": "print(df['OWN_OCCUPIED'])\ndf['OWN_OCCUPIED'].isnull()"
        },
        {
            "cell_type": "code",
            "execution_count": 20,
            "metadata": {},
            "outputs": [
                {
                    "data": {
                        "text/plain": "PID             1\nST_NUM          2\nST_NAME         0\nOWN_OCCUPIED    2\nNUM_BEDROOMS    3\nNUM_BATH        1\nSQ_FT           2\ndtype: int64"
                    },
                    "execution_count": 20,
                    "metadata": {},
                    "output_type": "execute_result"
                }
            ],
            "source": "df.isnull().sum()"
        },
        {
            "cell_type": "code",
            "execution_count": 29,
            "metadata": {
                "scrolled": true
            },
            "outputs": [
                {
                    "name": "stdout",
                    "output_type": "stream",
                    "text": "0    104.0\n1    197.0\n2      NaN\n3    201.0\n4    203.0\n5    207.0\n6      NaN\n7    213.0\n8    215.0\nName: ST_NUM, dtype: float64\n"
                }
            ],
            "source": "print(df['ST_NUM'])\ndf['ST_NUM'].fillna(125,inplace=True)"
        },
        {
            "cell_type": "code",
            "execution_count": 30,
            "metadata": {},
            "outputs": [
                {
                    "name": "stdout",
                    "output_type": "stream",
                    "text": "0    104.0\n1    197.0\n2    125.0\n3    201.0\n4    203.0\n5    207.0\n6    125.0\n7    213.0\n8    215.0\nName: ST_NUM, dtype: float64\n"
                }
            ],
            "source": "print(df['ST_NUM'])"
        },
        {
            "cell_type": "code",
            "execution_count": null,
            "metadata": {},
            "outputs": [],
            "source": ""
        }
    ],
    "metadata": {
        "kernelspec": {
            "display_name": "Python 3.6",
            "language": "python",
            "name": "python3"
        },
        "language_info": {
            "codemirror_mode": {
                "name": "ipython",
                "version": 3
            },
            "file_extension": ".py",
            "mimetype": "text/x-python",
            "name": "python",
            "nbconvert_exporter": "python",
            "pygments_lexer": "ipython3",
            "version": "3.6.9"
        }
    },
    "nbformat": 4,
    "nbformat_minor": 1
}